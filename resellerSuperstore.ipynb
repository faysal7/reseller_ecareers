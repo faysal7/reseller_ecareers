{
 "cells": [
  {
   "cell_type": "markdown",
   "metadata": {},
   "source": [
    "## Resellers Superstore"
   ]
  },
  {
   "cell_type": "code",
   "execution_count": 1,
   "metadata": {},
   "outputs": [],
   "source": [
    "import requests\n",
    "from bs4 import BeautifulSoup\n",
    "import pandas as pd\n",
    "import glob\n",
    "from datetime import date"
   ]
  },
  {
   "cell_type": "code",
   "execution_count": 2,
   "metadata": {},
   "outputs": [],
   "source": [
    "## There are the broad categories\n",
    "url = ['http://master-resale-rights.com/personal-niches',\n",
    "      'http://master-resale-rights.com/web-design',\n",
    "      'http://master-resale-rights.com/webmastering',\n",
    "      'http://master-resale-rights.com/videos',\n",
    "      'http://master-resale-rights.com/audios',\n",
    "      'http://master-resale-rights.com/business',\n",
    "      'http://master-resale-rights.com/marketing']\n",
    "\n",
    "\n",
    "\n",
    "## Get all the sub category links from those broad category links\n",
    "sub_link = []\n",
    "for lnk in url:\n",
    "    r = requests.get(lnk)\n",
    "    s = BeautifulSoup(r.content,'html.parser')\n",
    "\n",
    "    for lnk in s.find_all('div',class_='catalog-product-sub-categories spacer clearfix'):\n",
    "        for lnk1 in lnk.find_all('ul'):\n",
    "            for lnk2 in lnk1.find_all('a'):\n",
    "                sub_link.append(lnk2.get('href'))"
   ]
  },
  {
   "cell_type": "code",
   "execution_count": 3,
   "metadata": {},
   "outputs": [
    {
     "data": {
      "text/plain": [
       "['http://master-resale-rights.com/personal-niches/animal-related',\n",
       " 'http://master-resale-rights.com/personal-niches/computing',\n",
       " 'http://master-resale-rights.com/personal-niches/family',\n",
       " 'http://master-resale-rights.com/personal-niches/gaming',\n",
       " 'http://master-resale-rights.com/personal-niches/health-beauty',\n",
       " 'http://master-resale-rights.com/personal-niches/hobbies',\n",
       " 'http://master-resale-rights.com/personal-niches/holiday-related',\n",
       " 'http://master-resale-rights.com/personal-niches/home-and-garden',\n",
       " 'http://master-resale-rights.com/personal-niches/personal-finance',\n",
       " 'http://master-resale-rights.com/personal-niches/recipes-and-cooking']"
      ]
     },
     "execution_count": 3,
     "metadata": {},
     "output_type": "execute_result"
    }
   ],
   "source": [
    "# These are the sub category links\n",
    "sub_link[0:10]"
   ]
  },
  {
   "cell_type": "code",
   "execution_count": 4,
   "metadata": {},
   "outputs": [],
   "source": [
    "def scrape(sub_url):\n",
    "    \n",
    "    # Variables to be extracted\n",
    "    title = []\n",
    "    title_link= []\n",
    "    price = []\n",
    "    \n",
    "    # We iterate through 1 to 21 page for each sub category links\n",
    "    for pg in range(1,22):\n",
    "        r = requests.get(sub_url+f'-page-{pg}')\n",
    "        s = BeautifulSoup(r.content,'html.parser')\n",
    "        \n",
    "        # Scrape title\n",
    "        try:\n",
    "            for i in s.find_all('h5',class_='catalog-product-title'):\n",
    "                title.append(i.a.text)\n",
    "        except:\n",
    "            title.append('missing')\n",
    "         \n",
    "        # Scrape title link\n",
    "        try:\n",
    "            for i in s.find_all('h5',class_='catalog-product-title'):\n",
    "                title_link.append(i.a.get('href'))\n",
    "        except:\n",
    "            title_link.append('missing')\n",
    "        \n",
    "\n",
    "        # Scrape price\n",
    "        try:\n",
    "            for i in s.find_all('span',class_='sale-price-amount'):\n",
    "                price.append(i.text)\n",
    "        except:\n",
    "            price.append('missing')\n",
    "            \n",
    "    # Create a df with those extracted variables\n",
    "    df = pd.DataFrame({'title':title,\n",
    "                      'link':title_link,\n",
    "                      'price':price})\n",
    "    # Extract category\n",
    "    df['cat'] = sub_url.split('/')[3]\n",
    "    \n",
    "    # Extract sub category\n",
    "    df['sub_cat'] = sub_url.split('/')[4]\n",
    "    \n",
    "    return df.to_csv(f'{df.sub_cat.iloc[0]}.csv',index=False)"
   ]
  },
  {
   "cell_type": "code",
   "execution_count": null,
   "metadata": {},
   "outputs": [],
   "source": [
    "## Iterate through all sub category links and extract data\n",
    "for lnk in sub_link:\n",
    "    try:\n",
    "        scrape(lnk)\n",
    "    except:\n",
    "        pass"
   ]
  },
  {
   "cell_type": "code",
   "execution_count": null,
   "metadata": {},
   "outputs": [],
   "source": [
    "# Concat all the csv files with name \"reseller superstores\"\n",
    "today = date.today().strftime('%d_%b')\n",
    "df = pd.concat([pd.read_csv(f, encoding='latin1') for f in glob.glob('*.csv')],sort=False).reset_index(drop=True)\n",
    "df.to_csv(f'{today}_reseller_superstores.csv',index=False)"
   ]
  }
 ],
 "metadata": {
  "kernelspec": {
   "display_name": "Python 3",
   "language": "python",
   "name": "python3"
  },
  "language_info": {
   "codemirror_mode": {
    "name": "ipython",
    "version": 3
   },
   "file_extension": ".py",
   "mimetype": "text/x-python",
   "name": "python",
   "nbconvert_exporter": "python",
   "pygments_lexer": "ipython3",
   "version": "3.7.3"
  }
 },
 "nbformat": 4,
 "nbformat_minor": 2
}
