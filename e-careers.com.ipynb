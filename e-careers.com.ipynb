{
 "cells": [
  {
   "cell_type": "markdown",
   "metadata": {},
   "source": [
    "## E-careers.com"
   ]
  },
  {
   "cell_type": "code",
   "execution_count": 1,
   "metadata": {},
   "outputs": [],
   "source": [
    "##Import required modules\n",
    "import requests\n",
    "from bs4 import BeautifulSoup\n",
    "import pandas as pd\n",
    "import glob\n",
    "from datetime import date"
   ]
  },
  {
   "cell_type": "code",
   "execution_count": 2,
   "metadata": {},
   "outputs": [],
   "source": [
    "# Get all the category links\n",
    "cat_link = [\n",
    "    'https://www.e-careers.com/courses/accounting',\n",
    "    'https://www.e-careers.com/courses/bookkeeping',\n",
    "    'https://www.e-careers.com/courses/business-management',\n",
    "    'https://www.e-careers.com/courses/cemap',\n",
    "    'https://www.e-careers.com/courses/childcare',\n",
    "    'https://www.e-careers.com/courses/coding-web-development',\n",
    "    'https://www.e-careers.com/courses/cyber-security',\n",
    "    'https://www.e-careers.com/courses/digital-marketing',\n",
    "    'https://www.e-careers.com/courses/football',\n",
    "    'https://www.e-careers.com/courses/microsoft-office',\n",
    "    'https://www.e-careers.com/courses/networking-it',\n",
    "    'https://www.e-careers.com/courses/project-management',\n",
    "    'https://www.e-careers.com/courses/teaching',\n",
    "    'https://www.e-careers.com/courses/workplace-safety'\n",
    "           ]"
   ]
  },
  {
   "cell_type": "code",
   "execution_count": 3,
   "metadata": {},
   "outputs": [],
   "source": [
    "# Create a function, whose input is category link\n",
    "def scrape(category_link):\n",
    "    title = []\n",
    "    price = []\n",
    "    link = []\n",
    "    \n",
    "    for pg in range(1,5):\n",
    "        r = requests.get(category_link+f'?page={pg}#courseListing')\n",
    "        s = BeautifulSoup(r.content,'html.parser')\n",
    "        \n",
    "        # Main container\n",
    "        for res in s.find_all('div',class_='single-course-grid'):\n",
    "\n",
    "            #Title\n",
    "            try:\n",
    "                title.append(res.find('div',class_='single-course-name').text)\n",
    "            except:\n",
    "                title.append('missing')\n",
    "\n",
    "            # Price\n",
    "            try:\n",
    "                price.append(res.find('span',class_='now_price').text)\n",
    "            except:\n",
    "                price.append('missing')\n",
    "\n",
    "            link.append(res.a.get('href'))\n",
    "\n",
    "    # Create a df with the extracted vars\n",
    "    df = pd.DataFrame({'title':title,\n",
    "                      'link':link,\n",
    "                      'price':price})\n",
    "    # Extract category\n",
    "    df['cat'] = category_link.split('/')[4]\n",
    "    return df.to_csv(f'{df.cat.iloc[0]}.csv',index=False)"
   ]
  },
  {
   "cell_type": "code",
   "execution_count": 5,
   "metadata": {},
   "outputs": [],
   "source": [
    "# Iterate all the sub category links\n",
    "for lnk in cat_link:\n",
    "    scrape(lnk)\n",
    "\n",
    "# Create a csv file by merging all the csv files\n",
    "today = date.today().strftime('%d_%b')\n",
    "df = pd.concat([pd.read_csv(f, encoding='latin1') for f in glob.glob('*.csv')],sort=False).reset_index(drop=True)\n",
    "df.to_csv(f'{today}_ecareers.csv',index=False)"
   ]
  }
 ],
 "metadata": {
  "kernelspec": {
   "display_name": "Python 3",
   "language": "python",
   "name": "python3"
  },
  "language_info": {
   "codemirror_mode": {
    "name": "ipython",
    "version": 3
   },
   "file_extension": ".py",
   "mimetype": "text/x-python",
   "name": "python",
   "nbconvert_exporter": "python",
   "pygments_lexer": "ipython3",
   "version": "3.7.3"
  }
 },
 "nbformat": 4,
 "nbformat_minor": 2
}
